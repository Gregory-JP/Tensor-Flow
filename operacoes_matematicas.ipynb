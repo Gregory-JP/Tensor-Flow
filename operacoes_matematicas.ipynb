{
 "cells": [
  {
   "cell_type": "code",
   "execution_count": 1,
   "id": "8833b541",
   "metadata": {},
   "outputs": [],
   "source": [
    "import tensorflow as tf"
   ]
  },
  {
   "cell_type": "code",
   "execution_count": 2,
   "id": "060246cc",
   "metadata": {},
   "outputs": [],
   "source": [
    "# constantes\n",
    "const_a = tf.constant(5)\n",
    "const_b = tf.constant(10)"
   ]
  },
  {
   "cell_type": "code",
   "execution_count": 3,
   "id": "e95fd179",
   "metadata": {},
   "outputs": [
    {
     "name": "stdout",
     "output_type": "stream",
     "text": [
      "tf.Tensor(5, shape=(), dtype=int32)\n"
     ]
    }
   ],
   "source": [
    "print(const_a)"
   ]
  },
  {
   "cell_type": "code",
   "execution_count": 4,
   "id": "7777d1dd",
   "metadata": {},
   "outputs": [
    {
     "data": {
      "text/plain": [
       "tensorflow.python.framework.ops.EagerTensor"
      ]
     },
     "execution_count": 4,
     "metadata": {},
     "output_type": "execute_result"
    }
   ],
   "source": [
    "type(const_a)"
   ]
  },
  {
   "cell_type": "code",
   "execution_count": 5,
   "id": "eb58d2b1",
   "metadata": {},
   "outputs": [
    {
     "data": {
      "text/plain": [
       "<tf.Tensor: shape=(), dtype=int32, numpy=15>"
      ]
     },
     "execution_count": 5,
     "metadata": {},
     "output_type": "execute_result"
    }
   ],
   "source": [
    "# Soma\n",
    "\n",
    "soma = const_a + const_b\n",
    "soma"
   ]
  },
  {
   "cell_type": "code",
   "execution_count": 6,
   "id": "56355dbe",
   "metadata": {},
   "outputs": [],
   "source": [
    "node1 = tf.constant(5, dtype=tf.int32)\n",
    "node2 = tf.constant(10, dtype=tf.int32)\n",
    "node3 = tf.add(node1, node2)"
   ]
  },
  {
   "cell_type": "code",
   "execution_count": 7,
   "id": "245b5eff",
   "metadata": {},
   "outputs": [
    {
     "data": {
      "text/plain": [
       "<tf.Tensor: shape=(), dtype=int32, numpy=15>"
      ]
     },
     "execution_count": 7,
     "metadata": {},
     "output_type": "execute_result"
    }
   ],
   "source": [
    "node3"
   ]
  },
  {
   "cell_type": "code",
   "execution_count": 8,
   "id": "811a165e",
   "metadata": {},
   "outputs": [],
   "source": [
    "# Subtração\n",
    "\n",
    "rand_a = tf.random.normal([3], 2.0)\n",
    "rand_b = tf.random.normal([3], 1.0, 4.0)"
   ]
  },
  {
   "cell_type": "code",
   "execution_count": 9,
   "id": "f31d8a23",
   "metadata": {},
   "outputs": [
    {
     "data": {
      "text/plain": [
       "<tf.Tensor: shape=(3,), dtype=float32, numpy=array([1.3704162, 3.6214168, 1.0304573], dtype=float32)>"
      ]
     },
     "execution_count": 9,
     "metadata": {},
     "output_type": "execute_result"
    }
   ],
   "source": [
    "rand_a"
   ]
  },
  {
   "cell_type": "code",
   "execution_count": 10,
   "id": "3c6881d4",
   "metadata": {},
   "outputs": [
    {
     "data": {
      "text/plain": [
       "<tf.Tensor: shape=(3,), dtype=float32, numpy=array([-0.9029517, -5.430058 ,  4.0688143], dtype=float32)>"
      ]
     },
     "execution_count": 10,
     "metadata": {},
     "output_type": "execute_result"
    }
   ],
   "source": [
    "rand_b"
   ]
  },
  {
   "cell_type": "code",
   "execution_count": 11,
   "id": "080a4c7c",
   "metadata": {},
   "outputs": [],
   "source": [
    "sub = tf.subtract(rand_a, rand_b)"
   ]
  },
  {
   "cell_type": "code",
   "execution_count": 12,
   "id": "9f240a4f",
   "metadata": {},
   "outputs": [
    {
     "data": {
      "text/plain": [
       "<tf.Tensor: shape=(3,), dtype=float32, numpy=array([ 2.273368,  9.051475, -3.038357], dtype=float32)>"
      ]
     },
     "execution_count": 12,
     "metadata": {},
     "output_type": "execute_result"
    }
   ],
   "source": [
    "sub"
   ]
  },
  {
   "cell_type": "code",
   "execution_count": 13,
   "id": "974a38fd",
   "metadata": {},
   "outputs": [],
   "source": [
    "# Divisão\n",
    "\n",
    "# tf.compat.v1.disable_eager_execution() # sess execution below\n",
    "node1 = tf.constant(21, dtype=tf.int32)\n",
    "node2 = tf.constant(7, dtype=tf.int32)"
   ]
  },
  {
   "cell_type": "code",
   "execution_count": 14,
   "id": "a68d60f0",
   "metadata": {},
   "outputs": [],
   "source": [
    "div = tf.math.divide(node1, node2)"
   ]
  },
  {
   "cell_type": "code",
   "execution_count": 15,
   "id": "26269698",
   "metadata": {},
   "outputs": [
    {
     "data": {
      "text/plain": [
       "<tf.Tensor: shape=(), dtype=float64, numpy=3.0>"
      ]
     },
     "execution_count": 15,
     "metadata": {},
     "output_type": "execute_result"
    }
   ],
   "source": [
    "div"
   ]
  },
  {
   "cell_type": "code",
   "execution_count": 16,
   "id": "bfa4f04f",
   "metadata": {},
   "outputs": [
    {
     "data": {
      "text/plain": [
       "tensorflow.python.framework.ops.EagerTensor"
      ]
     },
     "execution_count": 16,
     "metadata": {},
     "output_type": "execute_result"
    }
   ],
   "source": [
    "type(div)"
   ]
  },
  {
   "cell_type": "code",
   "execution_count": 17,
   "id": "324f5a35",
   "metadata": {},
   "outputs": [
    {
     "data": {
      "text/plain": [
       "tensorflow.python.framework.ops.EagerTensor"
      ]
     },
     "execution_count": 17,
     "metadata": {},
     "output_type": "execute_result"
    }
   ],
   "source": [
    "type(node1)"
   ]
  },
  {
   "cell_type": "code",
   "execution_count": 20,
   "id": "134db95e",
   "metadata": {},
   "outputs": [],
   "source": [
    "# Session\n",
    "\n",
    "# sess = tf.compat.v1.Session()\n",
    "# sess.run(div)"
   ]
  },
  {
   "cell_type": "code",
   "execution_count": 33,
   "id": "afcb8267",
   "metadata": {},
   "outputs": [],
   "source": [
    "# Multiplicação\n",
    "\n",
    "tensor_a = tf.constant([[4., 2.]])\n",
    "tensor_b = tf.constant([[3.],[7.]])"
   ]
  },
  {
   "cell_type": "code",
   "execution_count": 34,
   "id": "5566ff40",
   "metadata": {},
   "outputs": [
    {
     "data": {
      "text/plain": [
       "<tf.Tensor: shape=(1, 2), dtype=float32, numpy=array([[4., 2.]], dtype=float32)>"
      ]
     },
     "execution_count": 34,
     "metadata": {},
     "output_type": "execute_result"
    }
   ],
   "source": [
    "tensor_a"
   ]
  },
  {
   "cell_type": "code",
   "execution_count": 35,
   "id": "b55d1c1f",
   "metadata": {},
   "outputs": [
    {
     "data": {
      "text/plain": [
       "<tf.Tensor: shape=(2, 1), dtype=float32, numpy=\n",
       "array([[3.],\n",
       "       [7.]], dtype=float32)>"
      ]
     },
     "execution_count": 35,
     "metadata": {},
     "output_type": "execute_result"
    }
   ],
   "source": [
    "tensor_b"
   ]
  },
  {
   "cell_type": "code",
   "execution_count": 36,
   "id": "706deb8f",
   "metadata": {},
   "outputs": [],
   "source": [
    "multi = tf.multiply(tensor_a, tensor_b)"
   ]
  },
  {
   "cell_type": "code",
   "execution_count": 37,
   "id": "11fe9d9e",
   "metadata": {},
   "outputs": [
    {
     "data": {
      "text/plain": [
       "<tf.Tensor: shape=(2, 2), dtype=float32, numpy=\n",
       "array([[12.,  6.],\n",
       "       [28., 14.]], dtype=float32)>"
      ]
     },
     "execution_count": 37,
     "metadata": {},
     "output_type": "execute_result"
    }
   ],
   "source": [
    "multi"
   ]
  },
  {
   "cell_type": "code",
   "execution_count": 38,
   "id": "a53c66d9",
   "metadata": {},
   "outputs": [],
   "source": [
    "# Outro exemplo de Multiplicação de Matrizes\n",
    "mat_a = tf.constant([[2, 3], [9, 2], [4, 5]])\n",
    "mat_b = tf.constant([[6, 4, 5], [3, 7, 2]])"
   ]
  },
  {
   "cell_type": "code",
   "execution_count": 39,
   "id": "dacb6c00",
   "metadata": {},
   "outputs": [
    {
     "name": "stdout",
     "output_type": "stream",
     "text": [
      "tf.Tensor(\n",
      "[[2 3]\n",
      " [9 2]\n",
      " [4 5]], shape=(3, 2), dtype=int32)\n"
     ]
    }
   ],
   "source": [
    "print(mat_a)"
   ]
  },
  {
   "cell_type": "code",
   "execution_count": 40,
   "id": "5f8204af",
   "metadata": {},
   "outputs": [
    {
     "name": "stdout",
     "output_type": "stream",
     "text": [
      "tf.Tensor(\n",
      "[[6 4 5]\n",
      " [3 7 2]], shape=(2, 3), dtype=int32)\n"
     ]
    }
   ],
   "source": [
    "print(mat_b)"
   ]
  },
  {
   "cell_type": "code",
   "execution_count": 41,
   "id": "dc52097d",
   "metadata": {},
   "outputs": [],
   "source": [
    "mat_prod = tf.matmul(mat_a, mat_b)"
   ]
  },
  {
   "cell_type": "code",
   "execution_count": 42,
   "id": "12dbe768",
   "metadata": {},
   "outputs": [
    {
     "data": {
      "text/plain": [
       "<tf.Tensor: shape=(3, 3), dtype=int32, numpy=\n",
       "array([[21, 29, 16],\n",
       "       [60, 50, 49],\n",
       "       [39, 51, 30]])>"
      ]
     },
     "execution_count": 42,
     "metadata": {},
     "output_type": "execute_result"
    }
   ],
   "source": [
    "mat_prod"
   ]
  },
  {
   "cell_type": "code",
   "execution_count": null,
   "id": "1e004471",
   "metadata": {},
   "outputs": [],
   "source": []
  }
 ],
 "metadata": {
  "kernelspec": {
   "display_name": "Python 3 (ipykernel)",
   "language": "python",
   "name": "python3"
  },
  "language_info": {
   "codemirror_mode": {
    "name": "ipython",
    "version": 3
   },
   "file_extension": ".py",
   "mimetype": "text/x-python",
   "name": "python",
   "nbconvert_exporter": "python",
   "pygments_lexer": "ipython3",
   "version": "3.9.7"
  }
 },
 "nbformat": 4,
 "nbformat_minor": 5
}
